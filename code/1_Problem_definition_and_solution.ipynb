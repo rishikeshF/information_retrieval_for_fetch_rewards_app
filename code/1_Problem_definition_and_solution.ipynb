{
 "cells": [
  {
   "cell_type": "markdown",
   "id": "5053ecbc",
   "metadata": {},
   "source": [
    "### Business Problem"
   ]
  },
  {
   "cell_type": "markdown",
   "id": "ae4ba821",
   "metadata": {},
   "source": [
    "Fetch Rewards is a mobile app where you can earn free gift cards by scanning and uploading your shopping receipts. You accumulate points for eligible receipts, which can be redeemed for various gift cards. It's a way to get rewards for your everyday shopping."
   ]
  },
  {
   "cell_type": "markdown",
   "id": "fec190fe",
   "metadata": {},
   "source": [
    "Fetch provides value to their user base through the rich variety of offers that are active in the app. They want their users to be able to easily seek out offers in the app, so that they get the most out of using the app and their partners get the most out of their relationship with Fetch."
   ]
  },
  {
   "cell_type": "markdown",
   "id": "ee17b496",
   "metadata": {},
   "source": [
    "### Solution"
   ]
  },
  {
   "cell_type": "markdown",
   "id": "86023f4f",
   "metadata": {},
   "source": [
    "Build a tool that allows users to intelligently search for offers via text input from the user."
   ]
  },
  {
   "cell_type": "markdown",
   "id": "857fb6db",
   "metadata": {},
   "source": [
    "#### Functional requirements : \n",
    "\n",
    "- If a user searches for a category (ex. diapers) the tool should return a list of offers that are relevant to that category.\n",
    "- If a user searches for a brand (ex. Huggies) the tool should return a list of offers that are relevant to that brand.\n",
    "- If a user searches for a retailer (ex. Target) the tool should return a list of offers that are relevant to that retailer.\n",
    "- The tool should also return the score that was used to measure the similarity of the text input with each offer\n",
    "\n",
    "#### Non-functional requirements : \n",
    "- Needs to have low latency. The search results should be ideally displayed instantaneously i.e. in less than a couple of seconds. "
   ]
  },
  {
   "cell_type": "markdown",
   "id": "768835ba",
   "metadata": {},
   "source": [
    "### Machine Learning Problem Fromulation"
   ]
  },
  {
   "cell_type": "markdown",
   "id": "f0195199",
   "metadata": {},
   "source": [
    "An information retrieval system is required such that when a word is given as input, it searches the entire database and returns the text that is syntactically similar to the search query. As we are searching through database using a name of brand or retailer (or category), there isn't much scope for searching based on semantic meaning (because 'names' don't really carry any meaning). So, the search is more likely to be focused on text similarity or syntactic similarity. \n",
    "\n",
    "Put in simple terms, if we had a data that is in the form of story or kind and the search query would have been something one the lines of 'why did he go to XYZ', 'how did she achieve it?', etc where the questions have an actual meaning and so we can use semantic search and Language models to find answers. But, in this case, the query is just a word which is a 'name' and therefore don't really have any semantic meaning. For example, the word 'Huggies' is just a brand name and it does not mean something. \n",
    "\n",
    "### How can it be solved ? \n",
    "\n",
    "#### 1. Rule based approach : \n",
    "Use regular expressions to search for the given search query (like brand name, category or retailer) in the database. \n",
    "\n",
    "##### Pros : \n",
    "a. Will work well for all the offers that have the search query in them. <br>\n",
    "b. Will fetch exactly those records that have the search query term in them. <br>\n",
    "\n",
    "##### Cons : \n",
    "a. It will be extremely complicated to code as lot of if-else conditions will need to be included. <br>\n",
    "b. The time complexity of this would be O(n * m) where n is the number of offers and m is the number of words in the offer. <br>\n",
    "c. It will NOT be robust, a small spelling mistake or change in text will lead to failure of the system. <br>\n",
    "\n",
    "#### 2. Using sentence embeddings and finding similarity therein : \n",
    "Use sentence embeddings to vectorize all the data i.e. list of all the offers. Use cosine similarity to find the similarity between the offer and search query. Sort the results thus obtained using similarity score. Display the records with highest similarity scores. It is the required output. \n",
    "\n",
    "###### Pros : \n",
    "a. It is a robust approach, a spelling mistake here and there won't drastically affect the system. <br>\n",
    "b. It will be of O(n log n) time complexity. As we will just need to compute the similarity scores of all records i.e. O(n) and then sort them according to similarity score i.e. O(n log n). So relatively, it will be faster than the rule based approach. We can further bring down the time complexity and make it even more faster by using a vector database like Redis.<br> \n",
    "c. Much simplified code unlike the rule based approach. <br>\n",
    "\n",
    "##### Cons : \n",
    "a. If the offer text contains a word that is syntactically (textually similar) to some brand name or category or retailer name, then that offer too will be displayed i.e. a False positive is likely to occur in the search result."
   ]
  },
  {
   "cell_type": "markdown",
   "id": "8b66e895",
   "metadata": {},
   "source": [
    "### Solution Approach:"
   ]
  },
  {
   "cell_type": "markdown",
   "id": "071149be",
   "metadata": {},
   "source": [
    "1. We have a dataset that has 'offer details', 'brand name', 'category name', 'retailer name'. One offer can be associated with brand, a retailer and have certain category all at the same time or might have one or two details missing. We need to provide the details of offer even if anyone of those three fields is given as input. However, it is not necessary that the brand name or category would certainly be mentioned in the offer details. So, a smart hack around this would be to concatenate the offer details with available metadata i.e. 'brand name', 'category name' and 'retailer name'. \n",
    "\n",
    "2. The next step would be to convert all those strings/texts/documents into vectors so that we can easily find the cosine similarity between the search query and the offer. We can store these vectors in a file (for extremely small datasets and toy datasets like this one) or use a vector database (like the one provided by Redis). \n",
    "\n",
    "3. Once we have all the dataset in vector form, at run time, we just need to vectorize the input search query and compute the cosine similarity between the search query and embeddings in the vector database. Post that we can arrange them in desceding order of similarity score and display the top-10 results to the user."
   ]
  },
  {
   "cell_type": "markdown",
   "id": "340f0f43",
   "metadata": {},
   "source": [
    "### How to scale it for production/industry level deployment ?\n",
    "\n",
    "In order to deploy this system in production, a sophisticated database like Redis, which is a vector database should be used. Further, LangChain can be used to retrieve similar records from the vector database while maintaing the low latency for real-time application."
   ]
  }
 ],
 "metadata": {
  "kernelspec": {
   "display_name": "Python 3 (ipykernel)",
   "language": "python",
   "name": "python3"
  },
  "language_info": {
   "codemirror_mode": {
    "name": "ipython",
    "version": 3
   },
   "file_extension": ".py",
   "mimetype": "text/x-python",
   "name": "python",
   "nbconvert_exporter": "python",
   "pygments_lexer": "ipython3",
   "version": "3.9.13"
  }
 },
 "nbformat": 4,
 "nbformat_minor": 5
}
